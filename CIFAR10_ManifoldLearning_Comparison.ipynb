{
  "nbformat": 4,
  "nbformat_minor": 0,
  "metadata": {
    "colab": {
      "provenance": []
    },
    "kernelspec": {
      "name": "python3",
      "display_name": "Python 3"
    },
    "language_info": {
      "name": "python"
    }
  },
  "cells": [
    {
      "cell_type": "markdown",
      "source": [
        "# <center> **CIFAR-10 Manifold Learning Comparison** </center>\n",
        "<br><br>\n",
        "\n",
        "### <center> Author: Omar Gabr </center>"
      ],
      "metadata": {
        "id": "i8SN9vbeNY-e"
      }
    },
    {
      "cell_type": "markdown",
      "source": [
        "# **What is the Objective of this Project?**\n",
        "\n",
        "This project aims to compare different manifold learning algorithms on the CIFAR-10 dataset, which consists of 60,000 color images of size 32x32x3 divided into 10 classes. The goal is to project the data into 2D and color the data by the class in which it belongs.\n",
        "\n",
        "The manifold learning algorithms to be used include\n",
        "1. Principle Component Analysis\n",
        "2. Isomap Embedding\n",
        "3. Locally Linear Embedding\n",
        "4. Multidimensional scaling\n",
        "5. Spectral Embedding\n",
        "6. T-distributed Stochastic Neighbor Embedding.\n",
        "\n",
        "Additionally, the UMAP algorithm will also be used. All these algorithms are available in the sklearn library."
      ],
      "metadata": {
        "id": "NbokhL0qNZBM"
      }
    },
    {
      "cell_type": "markdown",
      "source": [
        "# **Why Was this Dataset Chosen?**"
      ],
      "metadata": {
        "id": "M2vxktRpNZDv"
      }
    },
    {
      "cell_type": "markdown",
      "source": [
        "The CIFAR-10 dataset was chosen because it provides a challenging image classification problem with a large number of classes and color images. This dataset is different from the MNIST dataset in that it contains 10 classes of color images with a size of 32x32x3, which makes it a more realistic representation of real-world image data.\n",
        "\n",
        "The goal of this project is to evaluate the performance of different manifold learning algorithms on this dataset and compare their ability to capture the underlying structure of the data while preserving class information.\n",
        "\n",
        "This analysis will provide insights into which algorithm is better suited for this type of dataset and potentially improve the performance of image classification tasks."
      ],
      "metadata": {
        "id": "iiZmk9ywUf12"
      }
    },
    {
      "cell_type": "markdown",
      "source": [
        "# **Train Test Split**"
      ],
      "metadata": {
        "id": "B8z4W8CoNZGI"
      }
    },
    {
      "cell_type": "code",
      "source": [
        "from keras.datasets import cifar10\n",
        "\n",
        "# split into train and test sets\n",
        "(X_train, y_train), (X_test, y_test) = cifar10.load_data()\n",
        "\n",
        "# verify that training and testing sets have appropriate sizes\n",
        "print(f\"Training Set Shapes: ({X_train.shape}, {y_train.shape})\")\n",
        "print(f\"Testing Set Shapes: ({X_test.shape}, {y_test.shape})\")"
      ],
      "metadata": {
        "colab": {
          "base_uri": "https://localhost:8080/"
        },
        "id": "47YPUPGmS1rO",
        "outputId": "84412f5d-1fdb-4ff0-8cac-48921f5e5c50"
      },
      "execution_count": 5,
      "outputs": [
        {
          "output_type": "stream",
          "name": "stdout",
          "text": [
            "Training Set Shapes: ((50000, 32, 32, 3), (50000, 1))\n",
            "Testing Set Shapes: ((10000, 32, 32, 3), (10000, 1))\n"
          ]
        }
      ]
    },
    {
      "cell_type": "markdown",
      "source": [
        "# **Manifold Learning Algorithms**"
      ],
      "metadata": {
        "id": "wtMK8gIZS4RC"
      }
    },
    {
      "cell_type": "code",
      "source": [
        "X_train.shape"
      ],
      "metadata": {
        "colab": {
          "base_uri": "https://localhost:8080/"
        },
        "id": "i_8ygUDoS7V-",
        "outputId": "79f4e2cd-127a-4675-ca59-4d90fc11860f"
      },
      "execution_count": 2,
      "outputs": [
        {
          "output_type": "execute_result",
          "data": {
            "text/plain": [
              "(50000, 32, 32, 3)"
            ]
          },
          "metadata": {},
          "execution_count": 2
        }
      ]
    },
    {
      "cell_type": "markdown",
      "source": [
        "# **Comparison Evaluation**"
      ],
      "metadata": {
        "id": "E4n8GmGrTNhs"
      }
    },
    {
      "cell_type": "code",
      "source": [],
      "metadata": {
        "id": "1pEPgq_WTPHT"
      },
      "execution_count": null,
      "outputs": []
    },
    {
      "cell_type": "markdown",
      "source": [
        "# **Conclusion**"
      ],
      "metadata": {
        "id": "H5wobOCjUyQw"
      }
    },
    {
      "cell_type": "code",
      "source": [],
      "metadata": {
        "id": "zL2dC-oqUz7C"
      },
      "execution_count": null,
      "outputs": []
    }
  ]
}